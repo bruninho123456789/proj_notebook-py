{
  "metadata": {
    "language_info": {
      "codemirror_mode": {
        "name": "python",
        "version": 3
      },
      "file_extension": ".py",
      "mimetype": "text/x-python",
      "name": "python",
      "nbconvert_exporter": "python",
      "pygments_lexer": "ipython3",
      "version": "3.8"
    },
    "kernelspec": {
      "name": "python",
      "display_name": "Python (Pyodide)",
      "language": "python"
    }
  },
  "nbformat_minor": 4,
  "nbformat": 4,
  "cells": [
    {
      "cell_type": "code",
      "source": "endereco=[\n    \"enaldinho\",\n    \"geraldo de francisco\",\n    ]\nnumeros=[\n        22,17\n    ]\n    \nbairros=[\n    \"minitorim gorden\",\n    \"jocinei vroneldo\",\n    ]\n    \ncidades=[\n    \"los andros\",\n    \"nivaldo city\",\n    ]\n\nx = 0\nprint(\"{:<20}{:<15}{:<15}{:<0}\".format(\"Endereco\",\"Numeros\",\"Bairro\",\"Cidades\"))\nwhile(x<=2):\n    print(\"{:<20}{:<15}{:<15}{:<0}\".format(endereco[x],numeros[x],bairros[x],cidades[x]))\n    x += 1 \n    ",
      "metadata": {
        "trusted": true
      },
      "execution_count": null,
      "outputs": []
    },
    {
      "cell_type": "code",
      "source": "",
      "metadata": {},
      "execution_count": null,
      "outputs": []
    }
  ]
}