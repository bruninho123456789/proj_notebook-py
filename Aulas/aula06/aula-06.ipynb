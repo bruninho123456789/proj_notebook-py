{
  "metadata": {
    "language_info": {
      "codemirror_mode": {
        "name": "python",
        "version": 3
      },
      "file_extension": ".py",
      "mimetype": "text/x-python",
      "name": "python",
      "nbconvert_exporter": "python",
      "pygments_lexer": "ipython3",
      "version": "3.8"
    },
    "kernelspec": {
      "name": "python",
      "display_name": "Python (Pyodide)",
      "language": "python"
    }
  },
  "nbformat_minor": 4,
  "nbformat": 4,
  "cells": [
    {
      "cell_type": "markdown",
      "source": "01 - crie um programa que crie um objeto e um construtor  com nome pessoa. em uma lista com quatro pessoas:",
      "metadata": {}
    },
    {
      "cell_type": "code",
      "source": "class pessoa:\n    def __init__(self,nome,idade,cargo,salario):\n        self.nome = nome\n        self.idade = idade\n        self.cargo = cargo\n        self.salario = salario\n\ncadastro = []\n\ncadastro.append(pessoa(\"bruno\",16,\"diretor\",\"100.000\"))\ncadastro.append(pessoa(\"gabriel\",21,\"auxiliar\",\"1,200\"))\ncadastro.append(pessoa(\"xeraldo\",18,\"gandula do papani\",\"5,00 por cada bola\"))\ncadastro.append(pessoa(\"manuella\",18,\"aux. administrativo\" ,\"1,300\"))\ncadastro.sort(key=lambda x: x.nome)\nfor v in cadastro:\n    print(\"{:<10}{:<4}{:<12}{:<0}\".format(v.nome,v.idade,v.cargo,v.salario))\n",
      "metadata": {
        "trusted": true
      },
      "execution_count": 7,
      "outputs": [
        {
          "name": "stdout",
          "text": "bruno     16  diretor     100.000\ngabriel   21  auxiliar    1,200\nmanuella  18  aux. administrativo1,300\nxeraldo   18  gandula do papani5,00 por cada bola\n",
          "output_type": "stream"
        }
      ]
    },
    {
      "cell_type": "markdown",
      "source": "01 - crie um programa com uma classe carro onde possua, modelo,marca,ano,placa. adicione tres carros:",
      "metadata": {}
    },
    {
      "cell_type": "code",
      "source": "class pessoa:\n    def __init__(self,modelo,marca,ano,placa):\n        self.modelo = modelo\n        self.marca = marca\n        self.ano = ano\n        self.placa = placa\n\ncadastro = []\n\ncadastro.append(carro(\"ford\",2010,\"fusion\",\"FSK-5467\"))\ncadastro.append(carro(\"fiat\",2001,\"palio\",\"FGS-3453\"))\ncadastro.append(carro(\"ferrari\",2020,\"ferrari italia\",\"HGD-6543\"))\ncadastro.append(carro(\"koenigsegg\",2022,\"jesko\" ,\"KLM-6789\"))\ncadastro.sort(key=lambda x: x.nome)\nfor v in cadastro:\n    print(\"{:<10}{:<4}{:<12}{:<0}\".format(v.modelo,v.marca,v.ano,v.placa))\n",
      "metadata": {
        "trusted": true
      },
      "execution_count": 10,
      "outputs": [
        {
          "ename": "<class 'NameError'>",
          "evalue": "name 'carro' is not defined",
          "traceback": [
            "\u001b[0;31m---------------------------------------------------------------------------\u001b[0m",
            "\u001b[0;31mNameError\u001b[0m                                 Traceback (most recent call last)",
            "Cell \u001b[0;32mIn [10], line 10\u001b[0m\n\u001b[1;32m      6\u001b[0m         \u001b[38;5;28mself\u001b[39m\u001b[38;5;241m.\u001b[39mplaca \u001b[38;5;241m=\u001b[39m placa\n\u001b[1;32m      8\u001b[0m cadastro \u001b[38;5;241m=\u001b[39m []\n\u001b[0;32m---> 10\u001b[0m cadastro\u001b[38;5;241m.\u001b[39mappend(\u001b[43mcarro\u001b[49m(\u001b[38;5;124m\"\u001b[39m\u001b[38;5;124mford\u001b[39m\u001b[38;5;124m\"\u001b[39m,\u001b[38;5;241m2010\u001b[39m,\u001b[38;5;124m\"\u001b[39m\u001b[38;5;124mfusion\u001b[39m\u001b[38;5;124m\"\u001b[39m,\u001b[38;5;124m\"\u001b[39m\u001b[38;5;124mFSK-5467\u001b[39m\u001b[38;5;124m\"\u001b[39m))\n\u001b[1;32m     11\u001b[0m cadastro\u001b[38;5;241m.\u001b[39mappend(carro(\u001b[38;5;124m\"\u001b[39m\u001b[38;5;124mfiat\u001b[39m\u001b[38;5;124m\"\u001b[39m,\u001b[38;5;241m2001\u001b[39m,\u001b[38;5;124m\"\u001b[39m\u001b[38;5;124mpalio\u001b[39m\u001b[38;5;124m\"\u001b[39m,\u001b[38;5;124m\"\u001b[39m\u001b[38;5;124mFGS-3453\u001b[39m\u001b[38;5;124m\"\u001b[39m))\n\u001b[1;32m     12\u001b[0m cadastro\u001b[38;5;241m.\u001b[39mappend(carro(\u001b[38;5;124m\"\u001b[39m\u001b[38;5;124mferrari\u001b[39m\u001b[38;5;124m\"\u001b[39m,\u001b[38;5;241m2020\u001b[39m,\u001b[38;5;124m\"\u001b[39m\u001b[38;5;124mferrari italia\u001b[39m\u001b[38;5;124m\"\u001b[39m,\u001b[38;5;124m\"\u001b[39m\u001b[38;5;124mHGD-6543\u001b[39m\u001b[38;5;124m\"\u001b[39m))\n",
            "\u001b[0;31mNameError\u001b[0m: name 'carro' is not defined"
          ],
          "output_type": "error"
        }
      ]
    },
    {
      "cell_type": "code",
      "source": "",
      "metadata": {},
      "execution_count": null,
      "outputs": []
    }
  ]
}